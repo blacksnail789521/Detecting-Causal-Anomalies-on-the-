{
 "cells": [
  {
   "cell_type": "code",
   "execution_count": null,
   "metadata": {},
   "outputs": [],
   "source": [
    "# df的視覺化\n",
    "df.plot(figsize = (16, 9), legend = False)"
   ]
  },
  {
   "cell_type": "code",
   "execution_count": null,
   "metadata": {},
   "outputs": [],
   "source": [
    "# numpy的視覺化\n",
    "plt.figure(figsize=(25, 8))\n",
    "plt.plot([element[i] for element in times_series_arr])"
   ]
  },
  {
   "cell_type": "code",
   "execution_count": null,
   "metadata": {},
   "outputs": [],
   "source": [
    "# A的視覺化\n",
    "fig, ax = plt.subplots()\n",
    "ax.imshow(train_cluster_inverse[0], cmap='grey')\n",
    "#ax.matshow(train_cluster_inverse[0], cmap=plt.cm.Blues)"
   ]
  }
 ],
 "metadata": {
  "kernelspec": {
   "display_name": "Python 3",
   "language": "python",
   "name": "python3"
  },
  "language_info": {
   "codemirror_mode": {
    "name": "ipython",
    "version": 3
   },
   "file_extension": ".py",
   "mimetype": "text/x-python",
   "name": "python",
   "nbconvert_exporter": "python",
   "pygments_lexer": "ipython3",
   "version": "3.5.2"
  }
 },
 "nbformat": 4,
 "nbformat_minor": 2
}
