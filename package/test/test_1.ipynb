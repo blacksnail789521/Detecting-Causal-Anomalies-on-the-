{
 "cells": [
  {
   "cell_type": "code",
   "execution_count": 1,
   "metadata": {},
   "outputs": [],
   "source": [
    "import platform\n",
    "import pandas as pd\n",
    "import json, csv\n",
    "import pickle\n",
    "from datetime import datetime\n",
    "from operator import itemgetter\n",
    "from pprint import pprint\n",
    "import importlib\n",
    "import itertools\n",
    "from copy import deepcopy\n",
    "import numpy as np\n",
    "import math, time, collections, os, errno, sys, code, random\n",
    "import matplotlib\n",
    "#matplotlib.use('Agg')\n",
    "import matplotlib.pyplot as plt\n",
    "from sklearn import mixture\n",
    "from sklearn.cluster import KMeans\n",
    "from sklearn.preprocessing import StandardScaler\n",
    "from multiprocessing import Pool\n",
    "import shutil\n",
    "import configparser\n",
    "from mpl_toolkits.axes_grid1 import make_axes_locatable"
   ]
  },
  {
   "cell_type": "code",
   "execution_count": 2,
   "metadata": {},
   "outputs": [],
   "source": [
    "def calculate_degree_normalized_matrix(matrix):\n",
    "\n",
    "    ### calculate degree matrix\n",
    "\n",
    "    D = np.zeros(matrix.shape)\n",
    "    for i in range(matrix.shape[0]):\n",
    "        for j in range(matrix.shape[0]):\n",
    "            D[i][i] += matrix[i][j]\n",
    "\n",
    "    #print(D)\n",
    "\n",
    "\n",
    "    ### check whether D is a singular matrix\n",
    "\n",
    "    if np.linalg.cond(D) < 1 / sys.float_info.epsilon:\n",
    "        D = np.sqrt(np.linalg.inv(D))\n",
    "        return np.matmul(np.matmul(D, matrix), D)\n",
    "    else:\n",
    "        #print(\"so sad\")\n",
    "        return matrix"
   ]
  },
  {
   "cell_type": "code",
   "execution_count": 3,
   "metadata": {},
   "outputs": [],
   "source": [
    "def calculate_E_and_M(G):\n",
    "        \n",
    "        c = 0.5\n",
    "        N = 7\n",
    "        t_w = 1\n",
    "        \n",
    "        ### calculate E\n",
    "        \n",
    "        E = (1 - c) * np.linalg.inv(np.identity(N * t_w) - c * G)\n",
    "        #print(\"E: \\n\" + str(E))\n",
    "        \n",
    "        \n",
    "        ### calculate M\n",
    "        \n",
    "        M = []\n",
    "        for i in range(len(G)):\n",
    "            M.append([])\n",
    "            for j in range(len(G[i])):\n",
    "                if G[i][j] != 0:\n",
    "                    M[i].append(1)\n",
    "                else:\n",
    "                    M[i].append(G[i][j])\n",
    "        M = np.asarray(M)\n",
    "        #print(\"M: \\n\" + str(M))\n",
    "        \n",
    "        return E, M"
   ]
  },
  {
   "cell_type": "code",
   "execution_count": 4,
   "metadata": {},
   "outputs": [
    {
     "name": "stdout",
     "output_type": "stream",
     "text": [
      "[[0.         0.40824829 0.         0.         0.5        0.\n",
      "  0.        ]\n",
      " [0.40824829 0.         0.57735027 0.40824829 0.         0.\n",
      "  0.        ]\n",
      " [0.         0.57735027 0.         0.         0.         0.\n",
      "  0.        ]\n",
      " [0.         0.40824829 0.         0.         0.         0.40824829\n",
      "  0.        ]\n",
      " [0.5        0.         0.         0.         0.         0.40824829\n",
      "  0.        ]\n",
      " [0.         0.         0.         0.40824829 0.40824829 0.\n",
      "  0.57735027]\n",
      " [0.         0.         0.         0.         0.         0.57735027\n",
      "  0.        ]]\n"
     ]
    }
   ],
   "source": [
    "G = np.asarray([[0, 1, 0, 0, 1, 0, 0], \\\n",
    "                [1, 0, 1, 1, 0, 0, 0], \\\n",
    "                [0, 1, 0, 0, 0, 0, 0], \\\n",
    "                [0, 1, 0, 0, 0, 1, 0], \\\n",
    "                [1, 0, 0, 0, 0, 1, 0], \\\n",
    "                [0, 0, 0, 1, 1, 0, 1], \\\n",
    "                [0, 0, 0, 0, 0, 1, 0]])\n",
    "G = calculate_degree_normalized_matrix(G)\n",
    "print(G)"
   ]
  },
  {
   "cell_type": "code",
   "execution_count": 5,
   "metadata": {},
   "outputs": [
    {
     "name": "stdout",
     "output_type": "stream",
     "text": [
      "[[0.56469003 0.13369856 0.03859545 0.03571429 0.14959569 0.04126499\n",
      "  0.01191218]\n",
      " [0.13369856 0.60444744 0.17448895 0.13122266 0.04126499 0.0384097\n",
      "  0.01108793]\n",
      " [0.03859545 0.17448895 0.55037062 0.03788072 0.01191218 0.01108793\n",
      "  0.00320081]\n",
      " [0.03571429 0.13122266 0.03788072 0.55357143 0.03571429 0.13122266\n",
      "  0.03788072]\n",
      " [0.14959569 0.04126499 0.01191218 0.03571429 0.56469003 0.13369856\n",
      "  0.03859545]\n",
      " [0.04126499 0.0384097  0.01108793 0.13122266 0.13369856 0.60444744\n",
      "  0.17448895]\n",
      " [0.01191218 0.01108793 0.00320081 0.03788072 0.03859545 0.17448895\n",
      "  0.55037062]]\n",
      "[[0. 1. 0. 0. 1. 0. 0.]\n",
      " [1. 0. 1. 1. 0. 0. 0.]\n",
      " [0. 1. 0. 0. 0. 0. 0.]\n",
      " [0. 1. 0. 0. 0. 1. 0.]\n",
      " [1. 0. 0. 0. 0. 1. 0.]\n",
      " [0. 0. 0. 1. 1. 0. 1.]\n",
      " [0. 0. 0. 0. 0. 1. 0.]]\n"
     ]
    }
   ],
   "source": [
    "E, M = calculate_E_and_M(G)\n",
    "print(E)\n",
    "print(M)"
   ]
  },
  {
   "cell_type": "code",
   "execution_count": 6,
   "metadata": {},
   "outputs": [],
   "source": [
    "np.set_printoptions(precision = 4, suppress = True)"
   ]
  },
  {
   "cell_type": "code",
   "execution_count": 7,
   "metadata": {},
   "outputs": [
    {
     "name": "stdout",
     "output_type": "stream",
     "text": [
      "[ 2.     -0.4082 -0.     -0.     -0.5     0.     -0.    ]\n"
     ]
    }
   ],
   "source": [
    "A = np.asarray([[0, 1, 0, 0, 1, 0, 0], \\\n",
    "                [1, 0, 1, 1, 0, 0, 0], \\\n",
    "                [0, 1, 0, 0, 0, 0, 0], \\\n",
    "                [0, 1, 0, 0, 0, 1, 0], \\\n",
    "                [1, 0, 0, 0, 0, 1, 0], \\\n",
    "                [0, 0, 0, 1, 1, 0, 1], \\\n",
    "                [0, 0, 0, 0, 0, 1, 0]])\n",
    "b = np.asarray([1, 0, 0, 0, 0, 0, 0])\n",
    "s = np.matmul(np.linalg.inv(E), b)\n",
    "print(s)"
   ]
  },
  {
   "cell_type": "code",
   "execution_count": 8,
   "metadata": {},
   "outputs": [
    {
     "name": "stdout",
     "output_type": "stream",
     "text": [
      "[ 1.5918  1.5918 -0.5774 -0.4082 -0.5    -0.     -0.    ]\n"
     ]
    }
   ],
   "source": [
    "A = np.asarray([[0, 0, 0, 0, 1, 0, 0], \\\n",
    "                [0, 0, 1, 1, 0, 0, 0], \\\n",
    "                [0, 1, 0, 0, 0, 0, 0], \\\n",
    "                [0, 1, 0, 0, 0, 1, 0], \\\n",
    "                [1, 0, 0, 0, 0, 1, 0], \\\n",
    "                [0, 0, 0, 1, 1, 0, 1], \\\n",
    "                [0, 0, 0, 0, 0, 1, 0]])\n",
    "B = G - A\n",
    "b = np.asarray([1, 1, 0, 0, 0, 0, 0])\n",
    "s = np.matmul(np.linalg.inv(E), b)\n",
    "print(s)"
   ]
  },
  {
   "cell_type": "code",
   "execution_count": 9,
   "metadata": {},
   "outputs": [
    {
     "name": "stdout",
     "output_type": "stream",
     "text": [
      "[ 1.0918  1.5918 -0.5774 -0.4082  1.5    -0.9856  2.    ]\n"
     ]
    }
   ],
   "source": [
    "A = np.asarray([[0, 0, 0, 0, 0, 0, 0], \\\n",
    "                [0, 0, 1, 1, 0, 0, 0], \\\n",
    "                [0, 1, 0, 0, 0, 0, 0], \\\n",
    "                [0, 1, 0, 0, 0, 1, 0], \\\n",
    "                [0, 0, 0, 0, 0, 1, 0], \\\n",
    "                [0, 0, 0, 1, 1, 0, 1], \\\n",
    "                [0, 0, 0, 0, 0, 1, 0]])\n",
    "B = G - A\n",
    "b = np.asarray([1, 1, 0, 0, 1, 0, 1])\n",
    "s = np.matmul(np.linalg.inv(E), b)\n",
    "print(s)"
   ]
  },
  {
   "cell_type": "code",
   "execution_count": 10,
   "metadata": {},
   "outputs": [
    {
     "name": "stdout",
     "output_type": "stream",
     "text": [
      "[ 1.0918  1.0144  1.4226 -0.4082  1.5    -0.4082  0.    ]\n"
     ]
    }
   ],
   "source": [
    "A = np.asarray([[0, 0, 0, 0, 0, 0, 0], \\\n",
    "                [0, 0, 0, 1, 0, 0, 0], \\\n",
    "                [0, 0, 0, 0, 0, 0, 0], \\\n",
    "                [0, 1, 0, 0, 0, 1, 0], \\\n",
    "                [0, 0, 0, 0, 0, 1, 0], \\\n",
    "                [0, 0, 0, 1, 1, 0, 1], \\\n",
    "                [0, 0, 0, 0, 0, 1, 0]])\n",
    "B = G - A\n",
    "b = np.asarray([1, 1, 1, 0, 1, 0, 0])\n",
    "s = np.matmul(np.linalg.inv(E), b)\n",
    "print(s)"
   ]
  }
 ],
 "metadata": {
  "kernelspec": {
   "display_name": "Python 3",
   "language": "python",
   "name": "python3"
  },
  "language_info": {
   "codemirror_mode": {
    "name": "ipython",
    "version": 3
   },
   "file_extension": ".py",
   "mimetype": "text/x-python",
   "name": "python",
   "nbconvert_exporter": "python",
   "pygments_lexer": "ipython3",
   "version": "3.6.5"
  }
 },
 "nbformat": 4,
 "nbformat_minor": 2
}
