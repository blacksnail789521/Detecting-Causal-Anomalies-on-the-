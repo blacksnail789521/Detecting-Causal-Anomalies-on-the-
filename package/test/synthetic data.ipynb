{
 "cells": [
  {
   "cell_type": "code",
   "execution_count": 1,
   "metadata": {},
   "outputs": [],
   "source": [
    "import platform\n",
    "import pandas as pd\n",
    "import json, csv\n",
    "import pickle\n",
    "from datetime import datetime\n",
    "from operator import itemgetter\n",
    "from pprint import pprint\n",
    "import importlib\n",
    "import itertools\n",
    "from copy import deepcopy\n",
    "import numpy as np\n",
    "import math, time, collections, os, errno, sys, code, random\n",
    "import matplotlib\n",
    "#matplotlib.use('Agg')\n",
    "import matplotlib.pyplot as plt\n",
    "from sklearn import mixture\n",
    "from sklearn.cluster import KMeans\n",
    "from sklearn.preprocessing import StandardScaler\n",
    "from multiprocessing import Pool\n",
    "import shutil\n",
    "import configparser\n",
    "from mpl_toolkits.axes_grid1 import make_axes_locatable"
   ]
  },
  {
   "cell_type": "code",
   "execution_count": 2,
   "metadata": {},
   "outputs": [],
   "source": [
    "N = 3\n",
    "t_w = 3"
   ]
  },
  {
   "cell_type": "code",
   "execution_count": 3,
   "metadata": {},
   "outputs": [
    {
     "name": "stdout",
     "output_type": "stream",
     "text": [
      "-2.0471711259993457\n",
      "[[-0.49169357  0.04258848  0.20592664  0.346822    0.67532179  0.36869398\n",
      "   0.35838594  0.49191211  0.59945111]\n",
      " [ 0.04258848  0.08292705  0.40097441  0.67532179  1.3149671   0.71791027\n",
      "   0.69783875  0.95783705  1.1672339 ]\n",
      " [ 0.20592664  0.40097441 -0.2305386   0.59945111  1.1672339   0.80537776\n",
      "   0.15012748  0.5228625   0.86797528]\n",
      " [ 0.346822    0.67532179  0.59945111 -0.49169357  0.04258848  0.36869398\n",
      "   0.49191211  0.35838594  0.20592664]\n",
      " [ 0.67532179  1.3149671   1.1672339   0.04258848  0.08292705  0.71791027\n",
      "   0.95783705  0.69783875  0.40097441]\n",
      " [ 0.36869398  0.71791027  0.80537776  0.36869398  0.71791027  0.22382241\n",
      "   0.85029804  0.85029804  0.80537776]\n",
      " [ 0.35838594  0.69783875  0.15012748  0.49191211  0.95783705  0.85029804\n",
      "  -0.40551485  0.06026571  0.5228625 ]\n",
      " [ 0.49191211  0.95783705  0.5228625   0.35838594  0.69783875  0.85029804\n",
      "   0.06026571 -0.40551485  0.15012748]\n",
      " [ 0.59945111  1.1672339   0.86797528  0.20592664  0.40097441  0.80537776\n",
      "   0.5228625   0.15012748 -0.2305386 ]]\n"
     ]
    }
   ],
   "source": [
    "A = [[0, 1, 0, 0, 0, 0, 0, 0 ,0], [1, 0, 1, 0, 0, 1, 0, 0, 0], [0, 1, 0, 0, 0, 0, 1, 0, 0], [0, 0, 0, 0, 1, 0, 0, 0, 0], [0, 0, 0, 1, 0, 1, 0, 0, 1], [0, 1, 0, 0, 1, 0, 0, 0, 0], [0, 0, 1, 0, 0, 0, 0, 1, 0], [0, 0, 0, 0, 0, 0, 1, 0, 1], [0, 0, 0, 0, 1, 0, 0, 1, 0]]\n",
    "A_eigenvalue, A_eigenvector = np.linalg.eig(A)\n",
    "# print(\"A_eigenvalue: \\n\" + str(A_eigenvalue))\n",
    "# print(\"A_eigenvector: \\n\" + str(A_eigenvector))\n",
    "c = min(A_eigenvalue)\n",
    "print(c)\n",
    "theta = A + (0.1 + c) * np.identity(N * t_w)\n",
    "theta_i = np.linalg.inv(theta)\n",
    "print(theta_i)"
   ]
  },
  {
   "cell_type": "code",
   "execution_count": 4,
   "metadata": {},
   "outputs": [
    {
     "data": {
      "image/png": "[encoded data removed]",
      "text/plain": [
       "<Figure size 360x360 with 2 Axes>"
      ]
     },
     "metadata": {},
     "output_type": "display_data"
    },
    {
     "data": {
      "image/png": "[encoded data removed]",
      "text/plain": [
       "<Figure size 360x360 with 2 Axes>"
      ]
     },
     "metadata": {},
     "output_type": "display_data"
    }
   ],
   "source": [
    "fig, ax = plt.subplots(nrows = 1, ncols = 1, figsize=(5, 5))\n",
    "img = ax.imshow(A, cmap='gray_r')\n",
    "ax.set_yticks([i for i in range(len(A))])\n",
    "ax.tick_params(labelsize=15)\n",
    "divider = make_axes_locatable(ax)\n",
    "cax = divider.append_axes(\"right\", size=\"5%\", pad=0.05)\n",
    "ax.set_title(\"A\", fontsize = 24)\n",
    "fig.colorbar(img, cax=cax)\n",
    "plt.tight_layout(h_pad=1)\n",
    "\n",
    "# -------------------------------------------------------------------\n",
    "\n",
    "fig, ax = plt.subplots(nrows = 1, ncols = 1, figsize=(5, 5))\n",
    "img = ax.imshow(theta, cmap='gray_r')\n",
    "ax.set_yticks([i for i in range(len(theta))])\n",
    "ax.tick_params(labelsize=15)\n",
    "divider = make_axes_locatable(ax)\n",
    "cax = divider.append_axes(\"right\", size=\"5%\", pad=0.05)\n",
    "ax.set_title(\"theta\", fontsize = 24)\n",
    "fig.colorbar(img, cax=cax)\n",
    "plt.tight_layout(h_pad=1)"
   ]
  },
  {
   "cell_type": "code",
   "execution_count": 5,
   "metadata": {},
   "outputs": [
    {
     "name": "stdout",
     "output_type": "stream",
     "text": [
      "{0: array([[-1.94717113,  1.        ,  0.        ,  0.        ,  0.        ,\n",
      "         0.        ,  0.        ,  0.        ,  0.        ],\n",
      "       [ 1.        , -1.94717113,  1.        ,  0.        ,  0.        ,\n",
      "         1.        ,  0.        ,  0.        ,  0.        ],\n",
      "       [ 0.        ,  1.        , -1.94717113,  0.        ,  0.        ,\n",
      "         0.        ,  1.        ,  0.        ,  0.        ],\n",
      "       [ 0.        ,  0.        ,  0.        , -1.94717113,  1.        ,\n",
      "         0.        ,  0.        ,  0.        ,  0.        ],\n",
      "       [ 0.        ,  0.        ,  0.        ,  1.        , -1.94717113,\n",
      "         1.        ,  0.        ,  0.        ,  1.        ],\n",
      "       [ 0.        ,  1.        ,  0.        ,  0.        ,  1.        ,\n",
      "        -1.94717113,  0.        ,  0.        ,  0.        ],\n",
      "       [ 0.        ,  0.        ,  1.        ,  0.        ,  0.        ,\n",
      "         0.        , -1.94717113,  1.        ,  0.        ],\n",
      "       [ 0.        ,  0.        ,  0.        ,  0.        ,  0.        ,\n",
      "         0.        ,  1.        , -1.94717113,  1.        ],\n",
      "       [ 0.        ,  0.        ,  0.        ,  0.        ,  1.        ,\n",
      "         0.        ,  0.        ,  1.        , -1.94717113]])}\n"
     ]
    }
   ],
   "source": [
    "import numpy as np\n",
    "\n",
    "##Parameters to play with\n",
    "\n",
    "t_w = 3\n",
    "N = 3\n",
    "T = 200\n",
    "# K = 3\n",
    "# seg_ids = [0, 1, 2, 0, 1, 2]\n",
    "K = 1\n",
    "seg_ids = [0]\n",
    "break_points = []\n",
    "for i in range(len(seg_ids)):\n",
    "    break_points.append(i+1)\n",
    "break_points = np.asarray(break_points) * T\n",
    "###########################################################\n",
    "\n",
    "############GENERATE POINTS\n",
    "cluster_mean = np.zeros([N,1])\n",
    "cluster_mean_stacked = np.zeros([N * t_w,1])\n",
    "\n",
    "##Generate two inverse matrices\n",
    "cluster_covariances = {}\n",
    "for cluster in range(K):\n",
    "    cluster_covariances[cluster] = theta\n",
    "\n",
    "pprint(cluster_covariances)"
   ]
  },
  {
   "cell_type": "code",
   "execution_count": 6,
   "metadata": {
    "scrolled": false
   },
   "outputs": [
    {
     "name": "stdout",
     "output_type": "stream",
     "text": [
      "0\n",
      "done with generating the data!!!\n",
      "length of generated data is: 200\n",
      "(200, 3)\n"
     ]
    },
    {
     "name": "stderr",
     "output_type": "stream",
     "text": [
      "C:\\Anaconda3\\lib\\site-packages\\ipykernel_launcher.py:21: RuntimeWarning: covariance is not positive-semidefinite.\n",
      "C:\\Anaconda3\\lib\\site-packages\\ipykernel_launcher.py:33: RuntimeWarning: invalid value encountered in log\n",
      "C:\\Anaconda3\\lib\\site-packages\\ipykernel_launcher.py:41: RuntimeWarning: covariance is not positive-semidefinite.\n",
      "C:\\Anaconda3\\lib\\site-packages\\ipykernel_launcher.py:71: RuntimeWarning: covariance is not positive-semidefinite.\n"
     ]
    }
   ],
   "source": [
    "\n",
    "## data matrix\n",
    "data = np.zeros([break_points[-1],N])\n",
    "data_stacked = np.zeros([break_points[-1]-t_w+1, N*t_w])\n",
    "cluster_point_list = []\n",
    "for counter in range(len(break_points)):\n",
    "    break_pt = break_points[counter]\n",
    "    cluster = seg_ids[counter]\n",
    "    print(cluster)\n",
    "    if counter == 0:\n",
    "        old_break_pt = 0\n",
    "    else:\n",
    "        old_break_pt = break_points[counter-1]\n",
    "    for num in range(old_break_pt,break_pt):\n",
    "        ##generate the point from this cluster\n",
    "        # print(\"num is:\", num)\n",
    "        if num == 0:\n",
    "            cov_matrix = cluster_covariances[cluster][0:N,0:N]##the actual covariance matrix\n",
    "            new_mean = cluster_mean_stacked[N*(t_w-1):N*t_w]\n",
    "            ##Generate data\t\n",
    "            new_row = np.random.multivariate_normal(new_mean.reshape(N),cov_matrix)\n",
    "            data[num,:] = new_row\n",
    "\n",
    "        elif num < t_w:\n",
    "            ##The first section\n",
    "            cov_matrix = cluster_covariances[cluster][0:(num+1)*N,0:(num+1)*N] ##the actual covariance matrix\n",
    "            n = N\n",
    "            Sig22 = cov_matrix[(num)*n:(num+1)*n,(num)*n:(num+1)*n] \n",
    "            Sig11 = cov_matrix[0:(num)*n,0:(num)*n]\n",
    "            Sig21 = cov_matrix[(num)*n:(num+1)*n,0:(num)*n]\n",
    "            Sig12 = np.transpose(Sig21)\n",
    "            cov_mat_tom = Sig22 - np.dot(np.dot(Sig21,np.linalg.inv(Sig11)),Sig12) #sigma2|1\n",
    "            log_det_cov_tom = np.log(np.linalg.det(cov_mat_tom))# log(det(sigma2|1))\n",
    "            inv_cov_mat_tom = np.linalg.inv(cov_mat_tom)# The inverse of sigma2|1\n",
    "\n",
    "            ##Generate data\n",
    "            a = np.zeros([(num)*N,1])\n",
    "            for idx in range(num):\n",
    "                a[idx*N:(idx+1)*N,0] = data[idx,: ].reshape([N])\n",
    "            new_mean = cluster_mean + np.dot(np.dot(Sig21,np.linalg.inv(Sig11)),(a - cluster_mean_stacked[0:(num)*N,:]) )\n",
    "            new_row = np.random.multivariate_normal(new_mean.reshape(N),cov_mat_tom)\n",
    "            data[num,:] = new_row\n",
    "\n",
    "        else:\n",
    "            cov_matrix = cluster_covariances[cluster]##the actual covariance matrix\n",
    "            n = N\n",
    "            Sig22 = cov_matrix[(t_w-1)*n:(t_w)*n,(t_w-1)*n:(t_w)*n] \n",
    "            Sig11 = cov_matrix[0:(t_w-1)*n,0:(t_w-1)*n]\n",
    "            Sig21 = cov_matrix[(t_w-1)*n:(t_w)*n,0:(t_w-1)*n]\n",
    "            Sig12 = np.transpose(Sig21)\n",
    "            cov_mat_tom = Sig22 - np.dot(np.dot(Sig21,np.linalg.inv(Sig11)),Sig12) #sigma2|1\n",
    "            log_det_cov_tom = np.log(np.linalg.det(cov_mat_tom))# log(det(sigma2|1))\n",
    "            inv_cov_mat_tom = np.linalg.inv(cov_mat_tom)# The inverse of sigma2|1\n",
    "\n",
    "            ##Generate data\n",
    "            # print(\"shape of the inv_cov_mat_tom is:\", inv_cov_mat_tom.shape)\n",
    "            # print(\"cov_mat_tom\", cov_mat_tom.shape)\n",
    "            # print(\"Sig11 shape\", Sig11.shape)\n",
    "\n",
    "            a = np.zeros([(t_w-1)*N,1])\n",
    "            for idx in range(t_w-1):\n",
    "                a[idx*N:(idx+1)*N,0] = data[num - t_w + 1 + idx,: ].reshape([N])\n",
    "            # print(\"shape cluster_mean stacked is:\", (cluster_mean_stacked[0:(num)*N,:]).shape)\n",
    "            # print(\"shape of a is\", (a).shape# - cluster_mean_stacked[0:(num)*N,0]).shape)\n",
    "\n",
    "            new_mean = cluster_mean + np.dot(np.dot(Sig21,np.linalg.inv(Sig11)),(a - cluster_mean_stacked[0:(t_w-1)*N,:]) )\n",
    "            # print(\"shape of new_mean is:\", new_mean.shape)\n",
    "            # print(\"new mean is:\", new_mean)\n",
    "            # print(\"N:\", N)\n",
    "\n",
    "            new_row = np.random.multivariate_normal(new_mean.reshape(N),cov_mat_tom)\n",
    "            data[num,:] = new_row\n",
    "\n",
    "print(\"done with generating the data!!!\")\n",
    "\n",
    "print(\"length of generated data is:\", data.shape[0])\n",
    "print(data.shape)\n",
    "\n",
    "np.savetxt(\"Synthetic data Matrix rand_seed =[0,1] generated2.csv\", data, delimiter=\",\", fmt='%1.4f')"
   ]
  }
 ],
 "metadata": {
  "kernelspec": {
   "display_name": "Python 3",
   "language": "python",
   "name": "python3"
  },
  "language_info": {
   "codemirror_mode": {
    "name": "ipython",
    "version": 3
   },
   "file_extension": ".py",
   "mimetype": "text/x-python",
   "name": "python",
   "nbconvert_exporter": "python",
   "pygments_lexer": "ipython3",
   "version": "3.6.5"
  }
 },
 "nbformat": 4,
 "nbformat_minor": 2
}
