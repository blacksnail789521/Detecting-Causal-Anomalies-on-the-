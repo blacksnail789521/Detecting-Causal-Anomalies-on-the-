{
 "cells": [
  {
   "cell_type": "code",
   "execution_count": 6,
   "metadata": {},
   "outputs": [
    {
     "name": "stdout",
     "output_type": "stream",
     "text": [
      "[[ 0. -1.]\n",
      " [ 1.  2.]]\n",
      "[[0. 1.]\n",
      " [1. 2.]]\n"
     ]
    }
   ],
   "source": [
    "import numpy as np\n",
    "\n",
    "D = np.asarray([[0, -1], [1, 2]], dtype=np.float)\n",
    "print(D)\n",
    "print(abs(D))"
   ]
  },
  {
   "cell_type": "code",
   "execution_count": 4,
   "metadata": {},
   "outputs": [
    {
     "name": "stdout",
     "output_type": "stream",
     "text": [
      "2.8094944872101946e-22\n",
      "59660365252.489975\n",
      "1.3673212213428984e-12\n",
      "855194.1528939068\n",
      "2.412195354535009e-25\n",
      "2036074953943.7378\n",
      "[[0.00000000e+00 5.96603653e+10]\n",
      " [8.55194153e+05 2.03607495e+12]]\n"
     ]
    }
   ],
   "source": [
    "for i in range(D.shape[0]):\n",
    "    for j in range(D.shape[1]):\n",
    "        if D[i][j] != 0:\n",
    "            print(D[i][j])\n",
    "            D[i][j] = np.power(D[i][j], -0.5)\n",
    "            print(D[i][j])\n",
    "print(D)"
   ]
  },
  {
   "cell_type": "code",
   "execution_count": 3,
   "metadata": {},
   "outputs": [
    {
     "name": "stdout",
     "output_type": "stream",
     "text": [
      "0.5\n"
     ]
    }
   ],
   "source": [
    "a = np.power(4, -0.5)\n",
    "print(a)"
   ]
  }
 ],
 "metadata": {
  "kernelspec": {
   "display_name": "Python 3",
   "language": "python",
   "name": "python3"
  },
  "language_info": {
   "codemirror_mode": {
    "name": "ipython",
    "version": 3
   },
   "file_extension": ".py",
   "mimetype": "text/x-python",
   "name": "python",
   "nbconvert_exporter": "python",
   "pygments_lexer": "ipython3",
   "version": "3.6.5"
  }
 },
 "nbformat": 4,
 "nbformat_minor": 2
}
