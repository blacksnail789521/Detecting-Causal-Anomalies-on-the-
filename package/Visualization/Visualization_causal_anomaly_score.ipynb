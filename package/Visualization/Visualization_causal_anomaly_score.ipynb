{
 "cells": [
  {
   "cell_type": "code",
   "execution_count": 1,
   "metadata": {},
   "outputs": [],
   "source": [
    "%matplotlib inline\n",
    "import matplotlib.pyplot as plt\n",
    "import numpy as np\n",
    "from mpl_toolkits.axes_grid1 import make_axes_locatable"
   ]
  },
  {
   "cell_type": "code",
   "execution_count": 2,
   "metadata": {},
   "outputs": [
    {
     "name": "stdout",
     "output_type": "stream",
     "text": [
      "[[0, 0.1, 0.1, 0, 0.5, 1], [0, 0.2, 0.6, 0, 0.1, 1], [0, 0.7, 0, 0.2, 0, 1]]\n",
      "3\n",
      "[0, 1, 2]\n"
     ]
    }
   ],
   "source": [
    "s = [[0, 0, 0], [0.1, 0.2, 0.7], [0.1, 0.6, 0], [0, 0, 0.2], [0.5, 0.1, 0], [1, 1, 1]]\n",
    "transpose_s = list(map(list, zip(*s)))\n",
    "print(transpose_s)\n",
    "print(len(transpose_s))\n",
    "print([i for i in range(len(transpose_s))])"
   ]
  },
  {
   "cell_type": "code",
   "execution_count": 3,
   "metadata": {},
   "outputs": [
    {
     "data": {
      "image/png": "[encoded data removed]",
      "text/plain": [
       "<matplotlib.figure.Figure at 0x7f936e435b00>"
      ]
     },
     "metadata": {},
     "output_type": "display_data"
    }
   ],
   "source": [
    "fig, ax = plt.subplots(nrows = 1, ncols = 1, figsize=(10, 10))\n",
    "img = ax.imshow(transpose_s, cmap='gray_r')\n",
    "ax.set_yticks([i for i in range(len(transpose_s))])\n",
    "ax.tick_params(labelsize=15)\n",
    "ax.set_xlabel(\"time\", fontsize = 15)\n",
    "ax.set_ylabel(\"sensor\", fontsize = 15)\n",
    "divider = make_axes_locatable(ax)\n",
    "cax = divider.append_axes(\"right\", size=\"5%\", pad=0.05)\n",
    "ax.set_title(\"causal anomaly\", fontsize = 24)\n",
    "fig.colorbar(img, cax=cax)\n",
    "plt.tight_layout(h_pad=1)"
   ]
  }
 ],
 "metadata": {
  "kernelspec": {
   "display_name": "Python 3",
   "language": "python",
   "name": "python3"
  },
  "language_info": {
   "codemirror_mode": {
    "name": "ipython",
    "version": 3
   },
   "file_extension": ".py",
   "mimetype": "text/x-python",
   "name": "python",
   "nbconvert_exporter": "python",
   "pygments_lexer": "ipython3",
   "version": "3.6.5"
  }
 },
 "nbformat": 4,
 "nbformat_minor": 2
}
